{
 "cells": [
  {
   "cell_type": "code",
   "execution_count": 18,
   "id": "ce15e01c",
   "metadata": {},
   "outputs": [],
   "source": [
    "#import modules\n",
    "import json\n",
    "import datetime"
   ]
  },
  {
   "cell_type": "code",
   "execution_count": 25,
   "id": "5bdcbb0c",
   "metadata": {},
   "outputs": [],
   "source": [
    "#function to print bill and update inventory and add sales record\n",
    "def Order(buyer_name,email_id,phone_no,id_no,amount):\n",
    "    ptr=open(\"Project-2.json\",\"r\")\n",
    "    js=ptr.read()\n",
    "    ptr.close()\n",
    "    data_info=json.loads(js)\n",
    "    if data_info[id_no][\"quantity\"]<amount:\n",
    "        print(\"*************************\")\n",
    "        print(\"      OUT OF STOCK     \")\n",
    "        print(\"*************************\")\n",
    "    else:\n",
    "        print(\"*************************************\")\n",
    "        print(\"--       X.Y.Z General Store       --\")\n",
    "        print(\"   Product name : \",data_info[id_no][\"name\"])\n",
    "        print(\"   Quantity     : \",amount)\n",
    "        print(\"   Rate         : \",data_info[id_no][\"price\"])\n",
    "        print(\"   Total cost   : \",data_info[id_no][\"price\"]*amount)\n",
    "        print(\"--   Thank's for making purchase   --\")\n",
    "        print(\"*************************************\")\n",
    "        data_info[id_no][\"quantity\"]=data_info[id_no][\"quantity\"]-amount\n",
    "        txt=json.dumps(data_info)\n",
    "        ptr=open(\"Project-2.json\",\"w\")\n",
    "        ptr.write(txt)\n",
    "        ptr.close()\n",
    "        ptr=open(\"Project-2.txt\",\"a\")\n",
    "        txt=buyer_name+\",\"+email_id+\",\"+phone_no+\",\"+str(data_info[id_no][\"price\"]*amount)+\",\"+str(datetime.datetime.now())+\"\\n\"\n",
    "        ptr.write(txt)\n",
    "        ptr.close()"
   ]
  },
  {
   "cell_type": "code",
   "execution_count": 20,
   "id": "ad6083e4",
   "metadata": {},
   "outputs": [],
   "source": [
    "#function to accept info about buyer for sales record and quantity and product to generate bill\n",
    "def purchase():\n",
    "    Buyer_name=input(\"Enter the name of Buyer- \")\n",
    "    email_id=input(\"Enter the email id of Buyer- \")\n",
    "    phone_no=input(\"Enter the contact info of Buyer- \")\n",
    "    id_no=input(\"Enter the id of product- \")\n",
    "    quantity=int(input(\"Enter the quantity of product- \"))\n",
    "    Order(Buyer_name,email_id,phone_no,id_no,quantity)"
   ]
  },
  {
   "cell_type": "code",
   "execution_count": 26,
   "id": "d4f471e7",
   "metadata": {},
   "outputs": [
    {
     "name": "stdout",
     "output_type": "stream",
     "text": [
      "Enter the name of Buyer- Ashish\n",
      "Enter the email id of Buyer- ashish56@gmail.com\n",
      "Enter the contact info of Buyer- 9658465186\n",
      "Enter the id of product- 100\n",
      "Enter the quantity of product- 5\n",
      "*************************************\n",
      "--       X.Y.Z General Store       --\n",
      "   Product name :  PEN\n",
      "   Quantity     :  5\n",
      "   Rate         :  10\n",
      "   Total cost   :  50\n",
      "--   Thank's for making purchase   --\n",
      "*************************************\n"
     ]
    }
   ],
   "source": [
    "purchase()"
   ]
  },
  {
   "cell_type": "code",
   "execution_count": 27,
   "id": "ffb964e1",
   "metadata": {},
   "outputs": [
    {
     "name": "stdout",
     "output_type": "stream",
     "text": [
      "Enter the name of Buyer- Raju\n",
      "Enter the email id of Buyer- gamer69@yahoo.com\n",
      "Enter the contact info of Buyer- 9660386532\n",
      "Enter the id of product- 101\n",
      "Enter the quantity of product- 34\n",
      "*************************************\n",
      "--       X.Y.Z General Store       --\n",
      "   Product name :  PENCIL\n",
      "   Quantity     :  34\n",
      "   Rate         :  5\n",
      "   Total cost   :  170\n",
      "--   Thank's for making purchase   --\n",
      "*************************************\n"
     ]
    }
   ],
   "source": [
    "purchase()"
   ]
  },
  {
   "cell_type": "code",
   "execution_count": 29,
   "id": "f259b1ad",
   "metadata": {},
   "outputs": [
    {
     "name": "stdout",
     "output_type": "stream",
     "text": [
      "Enter the name of Buyer- Riya\n",
      "Enter the email id of Buyer- daddyprincess67@gmail.com\n",
      "Enter the contact info of Buyer- 9786437666\n",
      "Enter the id of product- 102\n",
      "Enter the quantity of product- 4\n",
      "*************************************\n",
      "--       X.Y.Z General Store       --\n",
      "   Product name :  NOTEBOOK\n",
      "   Quantity     :  4\n",
      "   Rate         :  40\n",
      "   Total cost   :  160\n",
      "--   Thank's for making purchase   --\n",
      "*************************************\n"
     ]
    }
   ],
   "source": [
    "purchase()"
   ]
  },
  {
   "cell_type": "code",
   "execution_count": null,
   "id": "523b6954",
   "metadata": {},
   "outputs": [],
   "source": []
  }
 ],
 "metadata": {
  "kernelspec": {
   "display_name": "Python 3 (ipykernel)",
   "language": "python",
   "name": "python3"
  },
  "language_info": {
   "codemirror_mode": {
    "name": "ipython",
    "version": 3
   },
   "file_extension": ".py",
   "mimetype": "text/x-python",
   "name": "python",
   "nbconvert_exporter": "python",
   "pygments_lexer": "ipython3",
   "version": "3.11.5"
  }
 },
 "nbformat": 4,
 "nbformat_minor": 5
}
