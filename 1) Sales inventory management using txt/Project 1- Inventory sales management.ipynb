{
 "cells": [
  {
   "cell_type": "code",
   "execution_count": 34,
   "id": "c6349843",
   "metadata": {},
   "outputs": [],
   "source": [
    "def info():\n",
    "    ptr=open(\"Project-1 data.txt\",\"r\")\n",
    "    txt=ptr.read()\n",
    "    items=txt.split(\"\\n\")\n",
    "    for i in items:\n",
    "        print(i.replace(\",\",\" \"))\n",
    "    print(\"*\"*30)\n",
    "    ptr.close()"
   ]
  },
  {
   "cell_type": "code",
   "execution_count": 63,
   "id": "2db3d65a",
   "metadata": {},
   "outputs": [],
   "source": [
    "def Order(name,phone_no,id_no,quantity):\n",
    "    import datetime\n",
    "    ptr=open(\"Project-1 data.txt\",\"r\")\n",
    "    txt=ptr.read()\n",
    "    ptr.close()\n",
    "    cost=\"\"\n",
    "    items=txt.split(\"\\n\")\n",
    "    product_details=[]\n",
    "    for i in items:\n",
    "        product_details.append(i.split(\",\"))\n",
    "    del items\n",
    "    for i in range(0,len(product_details),1):\n",
    "        if int(product_details[i][0])==id_no:\n",
    "            if quantity>int(product_details[i][2]):\n",
    "                print(\"*\"*20)\n",
    "                print(\"Out of stock\")\n",
    "                print(\"*\"*20)\n",
    "            else:\n",
    "                product_details[i][2]=str(int(product_details[i][2])-quantity)\n",
    "                print(\"*\"*10)\n",
    "                print(\"YOUR ORDER\")\n",
    "                cost=str(int(product_details[i][3])*quantity)\n",
    "                print(product_details[i][1],quantity,cost,sep=\"\\n\")\n",
    "                print(\"THANKS FOR SHOPPING\")\n",
    "                print(\"*\"*10)\n",
    "    ptr=open(\"Project-1 data.txt\",\"w\")\n",
    "    items=[]\n",
    "    for i in product_details:\n",
    "        items.append(\",\".join(i))\n",
    "    txt=\"\\n\".join(items)\n",
    "    ptr.write(txt)\n",
    "    ptr.close()\n",
    "    ptr=open(\"Project-1 sales.txt\",\"a\")\n",
    "    txt=name+\" \"+phone_no+\" \"+str(id_no)+\" \"+str(quantity)+\" \"+cost+\" \"+str(datetime.datetime.now())+\"\\n\"\n",
    "    ptr.write(txt)\n",
    "    ptr.close()"
   ]
  },
  {
   "cell_type": "code",
   "execution_count": 59,
   "id": "520a81fe",
   "metadata": {},
   "outputs": [],
   "source": [
    "def purchase(): \n",
    "    Name=input(\"Please Enter the customer name \")\n",
    "    Contact_num=input(\"Please Enter the phone number \")\n",
    "    Id=int(input(\"Enter the Id number \"))\n",
    "    Quantity=int(input(\"Enter the Quantity you want \"))\n",
    "    Order(Name,Contact_num,Id,Quantity)"
   ]
  },
  {
   "cell_type": "code",
   "execution_count": 60,
   "id": "6a1709a6",
   "metadata": {},
   "outputs": [
    {
     "name": "stdout",
     "output_type": "stream",
     "text": [
      "1 Pen 100 10\n",
      "2 Pencil 48 5\n",
      "3 Notebook 14 40\n",
      "4 School_bag 5 1000\n",
      "******************************\n"
     ]
    }
   ],
   "source": [
    "info()"
   ]
  },
  {
   "cell_type": "code",
   "execution_count": 64,
   "id": "d690d987",
   "metadata": {},
   "outputs": [
    {
     "name": "stdout",
     "output_type": "stream",
     "text": [
      "Please Enter the customer name Ashish\n",
      "Please Enter the phone number 9526536854\n",
      "Enter the Id number 3\n",
      "Enter the Quantity you want 3\n",
      "**********\n",
      "YOUR ORDER\n",
      "Notebook\n",
      "3\n",
      "120\n",
      "THANKS FOR SHOPPING\n",
      "**********\n"
     ]
    }
   ],
   "source": [
    "purchase()"
   ]
  },
  {
   "cell_type": "code",
   "execution_count": 65,
   "id": "7bc03311",
   "metadata": {},
   "outputs": [
    {
     "name": "stdout",
     "output_type": "stream",
     "text": [
      "1 Pen 100 10\n",
      "2 Pencil 41 5\n",
      "3 Notebook 11 40\n",
      "4 School_bag 5 1000\n",
      "******************************\n"
     ]
    }
   ],
   "source": [
    "info()"
   ]
  },
  {
   "cell_type": "code",
   "execution_count": 67,
   "id": "cdf2c8bc",
   "metadata": {},
   "outputs": [
    {
     "name": "stdout",
     "output_type": "stream",
     "text": [
      "Please Enter the customer name Ankit\n",
      "Please Enter the phone number 9456255626\n",
      "Enter the Id number 4\n",
      "Enter the Quantity you want 2\n",
      "**********\n",
      "YOUR ORDER\n",
      "School_bag\n",
      "2\n",
      "2000\n",
      "THANKS FOR SHOPPING\n",
      "**********\n"
     ]
    }
   ],
   "source": [
    "purchase()"
   ]
  },
  {
   "cell_type": "code",
   "execution_count": 68,
   "id": "0286cb78",
   "metadata": {},
   "outputs": [
    {
     "name": "stdout",
     "output_type": "stream",
     "text": [
      "1 Pen 100 10\n",
      "2 Pencil 41 5\n",
      "3 Notebook 11 40\n",
      "4 School_bag 3 1000\n",
      "******************************\n"
     ]
    }
   ],
   "source": [
    "info()"
   ]
  },
  {
   "cell_type": "code",
   "execution_count": null,
   "id": "0447e864",
   "metadata": {},
   "outputs": [],
   "source": []
  }
 ],
 "metadata": {
  "kernelspec": {
   "display_name": "Python 3 (ipykernel)",
   "language": "python",
   "name": "python3"
  },
  "language_info": {
   "codemirror_mode": {
    "name": "ipython",
    "version": 3
   },
   "file_extension": ".py",
   "mimetype": "text/x-python",
   "name": "python",
   "nbconvert_exporter": "python",
   "pygments_lexer": "ipython3",
   "version": "3.11.5"
  }
 },
 "nbformat": 4,
 "nbformat_minor": 5
}
